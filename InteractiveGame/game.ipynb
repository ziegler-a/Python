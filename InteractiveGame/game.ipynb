{
 "cells": [
  {
   "cell_type": "code",
   "execution_count": null,
   "id": "61b91376",
   "metadata": {},
   "outputs": [],
   "source": [
    "import random\n",
    "\n",
    "turn_max = 5\n",
    "\n",
    "# Use 5-letter words from words.txt\n",
    "with open('words.txt', 'r') as words:\n",
    "    words = words.read().rstrip().splitlines()\n",
    "length = len(words)"
   ]
  },
  {
   "cell_type": "code",
   "execution_count": null,
   "id": "d782d90d",
   "metadata": {},
   "outputs": [],
   "source": [
    "print('Welcome to Word Raider! You have ' + str(turn_max) + ' turns to guess the 5-letter word. Good luck!')"
   ]
  },
  {
   "cell_type": "code",
   "execution_count": null,
   "id": "5c3a7dde",
   "metadata": {},
   "outputs": [],
   "source": [
    "turn = 0\n",
    "misplaced = []\n",
    "wrong = []\n",
    "r_word = random.choice(words)\n",
    "\n",
    "while (turn <= turn_max):\n",
    "    # Display how many turns the player has left\n",
    "    print('You have ' + str(turn_max - turn) + ' turns left!')\n",
    "    guess = input('What is your next guess?').lower()\n",
    "    # Check if input meets criteria\n",
    "    guess_len = len(guess)\n",
    "    guess_check = guess.isalpha()\n",
    "    index = 0\n",
    "\n",
    "    if guess_check == True and guess_len == 5:\n",
    "        turn = turn + 1\n",
    "        # Check which letters of the guessed word are right\n",
    "        for l in guess:\n",
    "            if l == r_word[index]:\n",
    "                print(l, end=' ')\n",
    "                if l in misplaced:\n",
    "                    misplaced.remove(l)\n",
    "            elif l in r_word:\n",
    "                if l not in misplaced:\n",
    "                    misplaced.append(l)\n",
    "                print('_', end=' ')\n",
    "            else:\n",
    "                if l not in wrong:\n",
    "                    wrong.append(l)\n",
    "                print('_', end=' ')\n",
    "            index += 1\n",
    "        print(\"\\n\")\n",
    "        print(\"Misplaced letters: \", misplaced)\n",
    "        print(\"Incorrect letters: \", wrong)\n",
    "    else:\n",
    "        print('Please only enter 5-letter words.')\n",
    "        continue\n",
    "\n",
    "    # Check if the player has won\n",
    "    if guess == r_word:\n",
    "        print(\"Congratulations, you win!\")\n",
    "        break\n",
    "\n",
    "    # Check if the player has lost\n",
    "    if turn == turn_max:\n",
    "        print(\"Sorry, you lost. The word was\", r_word)\n",
    "        break"
   ]
  },
  {
   "cell_type": "code",
   "execution_count": null,
   "id": "cd6658f4",
   "metadata": {},
   "outputs": [],
   "source": []
  }
 ],
 "metadata": {
  "kernelspec": {
   "display_name": "Python 3",
   "language": "python",
   "name": "python3"
  },
  "language_info": {
   "codemirror_mode": {
    "name": "ipython",
    "version": 3
   },
   "file_extension": ".py",
   "mimetype": "text/x-python",
   "name": "python",
   "nbconvert_exporter": "python",
   "pygments_lexer": "ipython3",
   "version": "3.11.9"
  }
 },
 "nbformat": 4,
 "nbformat_minor": 5
}
