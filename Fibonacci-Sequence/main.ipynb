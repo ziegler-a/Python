{
 "cells": [
  {
   "cell_type": "code",
   "execution_count": null,
   "id": "75e3b424",
   "metadata": {},
   "outputs": [],
   "source": [
    "x = int(input('What is the n-th Fibonacci-number: '))\n",
    "n = 1\n",
    "m = 0\n",
    "z = 0\n",
    "for i in range(x-1):\n",
    "    z = n + m\n",
    "    m = n\n",
    "    n = z\n",
    "print(z)"
   ]
  },
  {
   "cell_type": "code",
   "execution_count": null,
   "id": "76f79576",
   "metadata": {},
   "outputs": [],
   "source": []
  },
  {
   "cell_type": "code",
   "execution_count": null,
   "id": "c296af30",
   "metadata": {},
   "outputs": [],
   "source": []
  }
 ],
 "metadata": {
  "kernelspec": {
   "display_name": "Python 3",
   "language": "python",
   "name": "python3"
  },
  "language_info": {
   "codemirror_mode": {
    "name": "ipython",
    "version": 3
   },
   "file_extension": ".py",
   "mimetype": "text/x-python",
   "name": "python",
   "nbconvert_exporter": "python",
   "pygments_lexer": "ipython3",
   "version": "3.11.9"
  }
 },
 "nbformat": 4,
 "nbformat_minor": 5
}
