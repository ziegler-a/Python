{
 "cells": [
  {
   "cell_type": "code",
   "execution_count": null,
   "id": "61b91376",
   "metadata": {},
   "outputs": [],
   "source": [
    "import random\n",
    "\n",
    "turn_max = 4\n",
    "turn = 0\n",
    "misplaced = []\n",
    "wrong = []"
   ]
  },
  {
   "cell_type": "code",
   "execution_count": 30,
   "id": "d782d90d",
   "metadata": {},
   "outputs": [
    {
     "name": "stdout",
     "output_type": "stream",
     "text": [
      "Welcome to Word Raider! You have 5 turns to guess the 5-letter word. Good luck!\n"
     ]
    }
   ],
   "source": [
    "print('Welcome to Word Raider! You have ' + str(turn_max + 1) + ' turns to guess the 5-letter word. Good luck!')"
   ]
  },
  {
   "cell_type": "code",
   "execution_count": 31,
   "id": "6c8d6485",
   "metadata": {},
   "outputs": [],
   "source": [
    "with open('words.txt', 'r') as words:\n",
    "    words = words.read().rstrip().splitlines()\n",
    "length = len(words)"
   ]
  },
  {
   "cell_type": "code",
   "execution_count": null,
   "id": "5c3a7dde",
   "metadata": {},
   "outputs": [],
   "source": [
    "r_word = random.choice(words)\n",
    "\n",
    "while (turn <= turn_max):\n",
    "    print('You have ' + str(turn_max - turn + 1) + ' turns left!')\n",
    "    guess = input('What is your next guess?').lower()\n",
    "    # Check if input meets criteria\n",
    "    guess_len = len(guess)\n",
    "    guess_check = guess.isalpha()\n",
    "    index = 0\n",
    "\n",
    "    if guess_check == True and guess_len == 5:\n",
    "        turn = turn + 1\n",
    "        # Check which letter of the guessed word are right\n",
    "        for l in guess:\n",
    "            if l == r_word[index]:\n",
    "                print(c, end=' ')\n",
    "                if c in misplaced:\n",
    "                    misplaced.remove(c)\n",
    "            elif c in r_word:\n",
    "                if c not in misplaced:\n",
    "                    misplaced.append(c)\n",
    "                    print('_', end=' ')\n",
    "            else:\n",
    "                if c not in wrong:\n",
    "                    wrong.append(c)\n",
    "                    print('_', end=' ')\n",
    "            index += 1\n",
    "        print(\"\\n\")\n",
    "        print(\"Misplaced letters: \", misplaced_guesses)\n",
    "        print(\"Incorrect letters: \", incorrect_guesses)\n",
    "    else:\n",
    "        print('Please only enter 5-letter words.')\n",
    "        continue\n",
    "\n",
    "    # Check if the player has won\n",
    "    if guess == word_to_guess:\n",
    "        print(\"Congratulations, you win!\")\n",
    "        break\n",
    "\n",
    "    # Check if the player has lost\n",
    "    if turns_taken == max_turns:\n",
    "        print(\"Sorry, you lost. The word was\", word_to_guess)\n",
    "        break\n",
    "    # Display the number of turns left and ask for another guess"
   ]
  },
  {
   "cell_type": "code",
   "execution_count": null,
   "id": "cd6658f4",
   "metadata": {},
   "outputs": [],
   "source": []
  }
 ],
 "metadata": {
  "kernelspec": {
   "display_name": "Python 3",
   "language": "python",
   "name": "python3"
  },
  "language_info": {
   "codemirror_mode": {
    "name": "ipython",
    "version": 3
   },
   "file_extension": ".py",
   "mimetype": "text/x-python",
   "name": "python",
   "nbconvert_exporter": "python",
   "pygments_lexer": "ipython3",
   "version": "3.11.9"
  }
 },
 "nbformat": 4,
 "nbformat_minor": 5
}
